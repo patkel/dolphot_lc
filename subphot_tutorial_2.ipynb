{
 "cells": [
  {
   "cell_type": "code",
   "execution_count": null,
   "metadata": {},
   "outputs": [],
   "source": [
    "import subphot2 as sp"
   ]
  },
  {
   "cell_type": "code",
   "execution_count": null,
   "metadata": {},
   "outputs": [],
   "source": [
    "im_loc = '/media/thomas/Drive_N1/HST_Icarus/Images'\n",
    "ref_image = '/media/thomas/Drive_N1/HST_Icarus/Images/IBF5B1DMQ_flt.fits'\n",
    "dolphot_path = '/media/thomas/Drive_N1/dolphot2.0/bin'\n",
    "sn_ra_me, sn_dec_me = '11:49:35.658', '+22:23:48.03'\n",
    "imroot = '/media/thomas/Drive_N1/HST_Icarus'\n",
    "sexpath = '/usr/local/bin/sex'"
   ]
  },
  {
   "cell_type": "code",
   "execution_count": null,
   "metadata": {},
   "outputs": [],
   "source": [
    "sp.prep_dir(im_loc, ref_image, dolphot_path, imroot, sexpath, sn_ra_me, sn_dec_me)"
   ]
  },
  {
   "cell_type": "code",
   "execution_count": null,
   "metadata": {},
   "outputs": [],
   "source": [
    "sp.mk_diff(threshold = 10,\n",
    "    fitgeometry = 'rscale', \n",
    "    nclip = 3,\n",
    "    minobj = 15)"
   ]
  },
  {
   "cell_type": "code",
   "execution_count": null,
   "metadata": {},
   "outputs": [],
   "source": [
    "sp.prep_files_for_dolphot(r_in = 15,\n",
    "    r_out = 35,\n",
    "    step = 4,\n",
    "    sig_low = 2.25,\n",
    "    sig_high = 2.00)"
   ]
  },
  {
   "cell_type": "code",
   "execution_count": null,
   "metadata": {},
   "outputs": [],
   "source": [
    "sp.dolphot_simultaneous()"
   ]
  },
  {
   "cell_type": "code",
   "execution_count": null,
   "metadata": {},
   "outputs": [],
   "source": [
    "sp.blot_back()"
   ]
  },
  {
   "cell_type": "code",
   "execution_count": null,
   "metadata": {},
   "outputs": [],
   "source": []
  }
 ],
 "metadata": {
  "kernelspec": {
   "display_name": "Python 3",
   "language": "python",
   "name": "python3"
  },
  "language_info": {
   "codemirror_mode": {
    "name": "ipython",
    "version": 3
   },
   "file_extension": ".py",
   "mimetype": "text/x-python",
   "name": "python",
   "nbconvert_exporter": "python",
   "pygments_lexer": "ipython3",
   "version": "3.6.9"
  }
 },
 "nbformat": 4,
 "nbformat_minor": 4
}
