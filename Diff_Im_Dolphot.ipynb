{
 "cells": [
  {
   "cell_type": "markdown",
   "metadata": {},
   "source": [
    "# Diff Im Dolphot Package Tutorial"
   ]
  },
  {
   "cell_type": "code",
   "execution_count": null,
   "metadata": {},
   "outputs": [],
   "source": [
    "import diff_im_dolphot as did\n",
    "import os"
   ]
  },
  {
   "cell_type": "markdown",
   "metadata": {},
   "source": [
    "File paths need to be defined to various directories and programs.\n",
    "\n",
    "|       Property      | Description                                                   |\n",
    "|:-------------------:|:-------------------------------------------------------------:|\n",
    "|        imroot       | Base directory where files and subdirectories will be created |\n",
    "|     orig_im_loc     | Location of the directory holding all the science images      |\n",
    "|        im_loc       | Working directory of science images for Diff Im Dolphot       |\n",
    "|      ref_image      | Location of refrence image                                    |\n",
    "|     dolphot_path    | Location of bin folder in Dolphot installation                |\n",
    "| sn_ra_me, sn_dec_me | Transient RA and Dec                                          |\n",
    "|       sexpath       | Path to Source Extractor excecutable                          |"
   ]
  },
  {
   "cell_type": "code",
   "execution_count": null,
   "metadata": {},
   "outputs": [],
   "source": [
    "imroot = os.getcwd()\n",
    "orig_im_loc = f'{imroot}/image_backup'\n",
    "im_loc = f'{imroot}/Images'\n",
    "ref_image = f'{imroot}/ref/registration.fits'\n",
    "dolphot_path = '/home/thomas/HST_Diff/dolphot2.0/bin'\n",
    "sn_ra_me, sn_dec_me = '11:49:35.658', '+22:24:48.03'\n",
    "sexpath = '/usr/bin/source-extractor'"
   ]
  },
  {
   "cell_type": "markdown",
   "metadata": {},
   "source": [
    "Some Dolphot properties need to be defined prior running Diff Im Dolphot.\n",
    "\n",
    "|       Property      | Description                                                   |\n",
    "|:-------------------:|:-------------------------------------------------------------:|\n",
    "|        raper        | Defines the size of the photometric aperture                  |\n",
    "|         rchi        | Defines the size of the aperture in which the chi value is calculated|\n",
    "|       rsky0         | Inner radius of sky annulus |\n",
    "|       rsky1         | Outer radius of sky annulus |\n",
    "|       rpsf          | Size of PSF used for star subtraction |\n",
    "|     ACSpsfType      | Use of Anderson PSF cores |\n",
    "\n",
    "The following Dolphot parameters are those recommended in the ACS Dolphot manual, for the exeption of using the Anderson PSF cores."
   ]
  },
  {
   "cell_type": "code",
   "execution_count": null,
   "metadata": {},
   "outputs": [],
   "source": [
    "dolphot_params = {\n",
    "    'raper': 3,\n",
    "    'rchi': 2.0,\n",
    "    'rsky0': 15,\n",
    "    'rsky1': 35,\n",
    "    'rpsf': 10,\n",
    "    'ACSpsfType': 1,\n",
    "    }"
   ]
  },
  {
   "cell_type": "markdown",
   "metadata": {},
   "source": [
    "First, a list of global constants needs to be defined and science images need to be copied from the original directory to a working directory."
   ]
  },
  {
   "cell_type": "code",
   "execution_count": null,
   "metadata": {},
   "outputs": [],
   "source": [
    "did.prep_dir(orig_im_loc,\n",
    "             im_loc,\n",
    "             ref_image,\n",
    "             dolphot_path,\n",
    "             imroot,\n",
    "             sexpath,\n",
    "             sn_ra_me,\n",
    "             sn_dec_me,\n",
    "             dolphot_params)"
   ]
  },
  {
   "cell_type": "markdown",
   "metadata": {},
   "source": [
    "The science images need to be run though the AstroDrizzle/Tweakreg pipeline for alignment, cosmic ray detection, distortion correction, and stacking. After, Source-Extractor will then build a source catalog."
   ]
  },
  {
   "cell_type": "code",
   "execution_count": null,
   "metadata": {},
   "outputs": [],
   "source": [
    "did.mk_diff(threshold=10,\n",
    "            fitgeometry='rscale',\n",
    "            nclip=3,\n",
    "            minobj=15,\n",
    "            final_scale_coadd=0.03,\n",
    "            ra_coadd=177.397192792,\n",
    "            dec_coadd=22.3937313215,\n",
    "            nx_coadd=5500,\n",
    "            ny_coadd=5500)"
   ]
  },
  {
   "cell_type": "markdown",
   "metadata": {},
   "source": [
    "The science images then need to be prepared for Dolphot processing. The masking, splitgroups, and calcsky scripts are called automatically."
   ]
  },
  {
   "cell_type": "code",
   "execution_count": null,
   "metadata": {},
   "outputs": [],
   "source": [
    "did.prep_files_for_dolphot('/dolphot_prepped',\n",
    "                           r_in=15,\n",
    "                           r_out=35,\n",
    "                           step=4,\n",
    "                           sig_low=2.25,\n",
    "                           sig_high=2.00)"
   ]
  },
  {
   "cell_type": "markdown",
   "metadata": {},
   "source": [
    "A Dolphot parameter file needs to be generated and then used to run the Dolphot script."
   ]
  },
  {
   "cell_type": "code",
   "execution_count": null,
   "metadata": {},
   "outputs": [],
   "source": [
    "did.dolphot_simultaneous()"
   ]
  },
  {
   "cell_type": "markdown",
   "metadata": {},
   "source": []
  },
  {
   "cell_type": "code",
   "execution_count": null,
   "metadata": {},
   "outputs": [],
   "source": [
    "did.blot_back(r_in=15,\n",
    "              r_out=35,\n",
    "              step=4,\n",
    "              sig_low=2.25,\n",
    "              sig_high=2.00)"
   ]
  },
  {
   "cell_type": "markdown",
   "metadata": {},
   "source": []
  },
  {
   "cell_type": "code",
   "execution_count": null,
   "metadata": {},
   "outputs": [],
   "source": [
    "objCoords = {\n",
    "    'S1': [2635.27, 2978.30, 177.398231, 22.41111],\n",
    "    'S2': [2692.26, 2997.02, 177.397718, 22.41111],\n",
    "    'S3': [2730.87, 2967.26, 177.397370, 22.41111],\n",
    "    'S4': [2682.07, 2925.37, 177.397810, 22.41111],\n",
    "    'SX': [2426.58, 3106.85, 177.400112, 22.41111],\n",
    "    }\n",
    "\n",
    "did.dolphot_force(apermag=False, force_same_mag=False, psfphot=1, objCoords=objCoords)\n",
    "did.dolphot_force(apermag=False, force_same_mag=True,  psfphot=1, objCoords=objCoords)\n",
    "did.dolphot_force(apermag=False, force_same_mag=False, psfphot=2, objCoords=objCoords)\n",
    "did.dolphot_force(apermag=False, force_same_mag=True,  psfphot=2, objCoords=objCoords)"
   ]
  },
  {
   "cell_type": "code",
   "execution_count": null,
   "metadata": {},
   "outputs": [],
   "source": []
  },
  {
   "cell_type": "code",
   "execution_count": null,
   "metadata": {},
   "outputs": [],
   "source": []
  },
  {
   "cell_type": "code",
   "execution_count": null,
   "metadata": {},
   "outputs": [],
   "source": []
  },
  {
   "cell_type": "code",
   "execution_count": null,
   "metadata": {},
   "outputs": [],
   "source": []
  }
 ],
 "metadata": {
  "kernelspec": {
   "display_name": "Python 3",
   "language": "python",
   "name": "python3"
  },
  "language_info": {
   "codemirror_mode": {
    "name": "ipython",
    "version": 3
   },
   "file_extension": ".py",
   "mimetype": "text/x-python",
   "name": "python",
   "nbconvert_exporter": "python",
   "pygments_lexer": "ipython3",
   "version": "3.8.5"
  }
 },
 "nbformat": 4,
 "nbformat_minor": 4
}
